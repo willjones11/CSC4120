{
 "cells": [
  {
   "cell_type": "markdown",
   "id": "c9df3022-7955-43a1-97af-5f26917f45f6",
   "metadata": {},
   "source": [
    "Midterm Problem 2\n",
    "\n",
    "Dorsa Erfani\n",
    "\n"
   ]
  },
  {
   "cell_type": "code",
   "execution_count": 2,
   "id": "31337b76-09ec-41a6-a800-1bd420451953",
   "metadata": {},
   "outputs": [],
   "source": [
    "import numpy as np\n",
    "import matplotlib.pyplot as plt\n",
    "from time import process_time_ns\n",
    "from timeit import timeit\n",
    "%matplotlib inline\n",
    "from scipy.optimize import curve_fit\n",
    "from scipy.interpolate import CubicSpline\n",
    "from scipy.interpolate import interp1d\n",
    "from sklearn.metrics import mean_absolute_error as mae\n",
    "from sklearn.metrics import max_error"
   ]
  },
  {
   "cell_type": "markdown",
   "id": "66b1fa6e-13a9-4027-8476-669a6585499a",
   "metadata": {},
   "source": [
    "Consider the two-body orbit problem. The relationship between the time t and the angle ξ of the motion is given by\n",
    "\n",
    "t = T(ξ−esinξ). 2π\n",
    "\n",
    "The parameters in these equations have values T = 1, a = 1, e = 0.9, and m1 = 0.25m2.\n",
    "** Provide all code used to produce your answers. Put comments in the code describing all significant steps."
   ]
  },
  {
   "cell_type": "markdown",
   "id": "4ca07061-1d2f-460d-ae5f-af50ebf9aa31",
   "metadata": {},
   "source": [
    "(A) (5 points) For a value of t = 1, solve for the value of ξ to a precision of 1e-6, without using any package."
   ]
  },
  {
   "cell_type": "code",
   "execution_count": 3,
   "id": "f31ad435-05b2-46e9-9dab-ce697bbafa1f",
   "metadata": {},
   "outputs": [],
   "source": [
    "#PART A\n",
    "\n",
    "# defining the function and setting it = 0 \n",
    "def f(t):\n",
    "    return (1/(2*np.pi))*(e - 0.9*np.sin(e))-t\n",
    "\n",
    "#defining the position eqns: \n",
    "\n",
    "def x1(e):\n",
    "    return 0.8*1*(np.cos(e-0.9))\n",
    "def y1(e):\n",
    "    return 0.8*1*np.sqrt(1-(0.9**2))*np.sin(e)\n",
    "def x2(e):\n",
    "    return -0.2*1*(np.cos(e-0.9))\n",
    "def y2(e):\n",
    "    return -0.2*1*np.sqrt(1-(0.9**2))*np.sin(e)\n"
   ]
  },
  {
   "cell_type": "code",
   "execution_count": 4,
   "id": "5fdb7d2e-722a-47cf-8b15-7f34c1253bdf",
   "metadata": {},
   "outputs": [
    {
     "name": "stdout",
     "output_type": "stream",
     "text": [
      "the root is 6.283185 at 5 iterations\n"
     ]
    }
   ],
   "source": [
    "#  e=x\n",
    "def nraphson (fn, x, tol=1.0e-6, maxiter=100): # defining the nraph function and setting \n",
    "    for i in range(maxiter):                  #up parameters for tolerence and maximum iteration\n",
    "        xnew = x - fn[0](x)/fn[1](x)\n",
    "        if abs(xnew - x) < tol: break\n",
    "        x=xnew\n",
    "    return xnew, i\n",
    "\n",
    "#using the lambda function to define f(x) and f'(x)\n",
    "y= [lambda x: (1/(2*np.pi))*(x - 0.9*np.sin(x))-1, lambda x: (1/(2*np.pi))*(-0.9*np.cos(x)+1)]\n",
    "\n",
    "\n",
    "\n",
    "#calling the nraph function and making a guess to find the root\n",
    "x, n = nraphson(y, 5)\n",
    "print('the root is %f at %d iterations' % (x,n))\n",
    "\n"
   ]
  },
  {
   "cell_type": "markdown",
   "id": "3792e4d8-0134-410c-80d8-bb1c9b054330",
   "metadata": {},
   "source": [
    "answer to part A: the value of e is 6.283185, when t = 1, to a precision of 1e-6"
   ]
  },
  {
   "cell_type": "markdown",
   "id": "01128b18-cdb9-42f1-9c79-5db93ed514c1",
   "metadata": {},
   "source": [
    "(B) (8 points) Plot ξ as a function of t. Solve for ξ for a range of time points. Plot the positions of both particles at each time. Calculate sufficient time points that the particles complete one elliptical orbit."
   ]
  },
  {
   "cell_type": "code",
   "execution_count": 7,
   "id": "9b825af8-5fe5-40bb-a02c-ed08cefd6f6b",
   "metadata": {},
   "outputs": [],
   "source": [
    "#PART B\n",
    "tv= np.linspace(0,180, 100)\n"
   ]
  },
  {
   "cell_type": "code",
   "execution_count": 13,
   "id": "9edfaf20-ca28-41c4-9931-b5c4a0463c01",
   "metadata": {
    "scrolled": true,
    "tags": []
   },
   "outputs": [
    {
     "ename": "IndentationError",
     "evalue": "expected an indented block (<ipython-input-13-f33c45b7ed76>, line 9)",
     "output_type": "error",
     "traceback": [
      "\u001b[1;36m  File \u001b[1;32m\"<ipython-input-13-f33c45b7ed76>\"\u001b[1;36m, line \u001b[1;32m9\u001b[0m\n\u001b[1;33m    print('Divide by zero error!')\u001b[0m\n\u001b[1;37m    ^\u001b[0m\n\u001b[1;31mIndentationError\u001b[0m\u001b[1;31m:\u001b[0m expected an indented block\n"
     ]
    }
   ],
   "source": [
    "ynn = []\n",
    "for i in range (len(tv)):\n",
    "    def raphson (fn, x0, tol=1.0e-6, maxiter=100): # defining the nraph function and setting \n",
    "        step = 1\n",
    "        flag = 1\n",
    "        condition = True\n",
    "        whi\n",
    "            x1 = x0 - fn[1](x0)/fn[0](x0)\n",
    "            print('Iteration-%d, x1 = %0.6f and f(x1) = %0.6f' % (step, x1, fn[0](x1)))\n",
    "            x0 = x1\n",
    "            step = step + 1\n",
    "        \n",
    "            if step > N:\n",
    "            flag = 0\n",
    "            break\n",
    "        \n",
    "        condition = abs(f(x1)) > e\n",
    "    \n",
    "        if flag==1:\n",
    "            print('\\nRequired root is: %0.8f' % x1)\n",
    "        else:\n",
    "            print('\\nNot Convergent.')\n",
    "            # for i in range(maxiter):                  #up parameters for tolerence and maximum iteration\n",
    "            #    xnew = x - fn[0](x)/fn[1](x) \n",
    "            #    print('x is %f and xnew is $f' % (x, xnew) )\n",
    "            #    if (abs(xnew - x) / x) < tol: break\n",
    "            #    x=xnew\n",
    "            #return xnew, i\n",
    "        \n",
    "        \n",
    "        \n",
    "        \n",
    "    ym= [lambda x: (1/(2*np.pi))*(x - 0.9*np.sin(x))-tv[i] , lambda x: (1/(2*np.pi))*(-0.9*np.cos(x)+tv[i])]\n",
    "    x, n = raphson(ym, [i])\n",
    "    ynn.append(x)\n",
    "    \n",
    "    print('the root is %f at %d iterations' % (x,n))\n",
    "#print(ynn)"
   ]
  },
  {
   "cell_type": "code",
   "execution_count": 186,
   "id": "3e9ab0dc-9922-470b-ae5e-5f4e711b9350",
   "metadata": {},
   "outputs": [],
   "source": [
    "x1e = []\n",
    "for i in range(len(ynn)):\n",
    "    en1 = x1(ynn[i])\n",
    "    x1e.append(en1)\n",
    "\n",
    "y1e = []\n",
    "for i in range(len(ynn)):\n",
    "    en2 = y1(ynn[i])\n",
    "    y1e.append(en2)\n",
    "    \n",
    "x2e = []\n",
    "for i in range(len(ynn)):\n",
    "    en3 = x2(ynn[i])\n",
    "    x2e.append(en3)\n",
    "    \n",
    "y2e = []\n",
    "for i in range(len(ynn)):\n",
    "    en4 = y2(ynn[i])\n",
    "    y2e.append(en4)"
   ]
  },
  {
   "cell_type": "code",
   "execution_count": 187,
   "id": "841b6f2e-158d-426e-942e-edafe653fb6b",
   "metadata": {},
   "outputs": [
    {
     "data": {
      "image/png": "[encoded data removed]",
      "text/plain": [
       "<Figure size 432x288 with 1 Axes>"
      ]
     },
     "metadata": {
      "needs_background": "light"
     },
     "output_type": "display_data"
    },
    {
     "data": {
      "image/png": "[encoded data removed]",
      "text/plain": [
       "<Figure size 432x288 with 1 Axes>"
      ]
     },
     "metadata": {
      "needs_background": "light"
     },
     "output_type": "display_data"
    }
   ],
   "source": [
    "plt.plot(tv, ynn)\n",
    "plt.show()\n",
    "\n",
    "plt.plot(x1e, y1e,'ro', x2e,y2e,  'o')\n",
    "plt.show()\n"
   ]
  },
  {
   "cell_type": "markdown",
   "id": "4f9d50bb-9803-464f-8abb-2a2096ac8be6",
   "metadata": {},
   "source": [
    "(C) (7 points) Explain the method that you use to solve for ξ. Explain how an iterative method reaches a solution. Describe the convergence properties of your solutions, with reference to the number of iterations your code requires."
   ]
  },
  {
   "cell_type": "markdown",
   "id": "3c92550a-7024-49b2-ae57-964ba70eba5c",
   "metadata": {},
   "source": [
    "# PART C \n",
    "The Newton Raphson method uses the derivative to find a tangent line such that the tangent line will produce a root estimation.\n",
    "This method is sensative to small value of the derivative because if the derivative is close to 0 or less than 1 the root estimation diverges to infinity.\n",
    "If N-R method does not diverge, it converges quadratically.\n",
    "This method was chosen because the derivative of f(x) was easily computed.\n",
    "I set the maximum iteration to 100. "
   ]
  },
  {
   "cell_type": "code",
   "execution_count": null,
   "id": "15ea4b5d-4a04-4055-be47-0b8dcfb73e0a",
   "metadata": {},
   "outputs": [],
   "source": []
  },
  {
   "cell_type": "code",
   "execution_count": null,
   "id": "2bd81e9b-a38c-47a1-84af-fe30edc02aaf",
   "metadata": {},
   "outputs": [],
   "source": []
  }
 ],
 "metadata": {
  "kernelspec": {
   "display_name": "Python 3",
   "language": "python",
   "name": "python3"
  },
  "language_info": {
   "codemirror_mode": {
    "name": "ipython",
    "version": 3
   },
   "file_extension": ".py",
   "mimetype": "text/x-python",
   "name": "python",
   "nbconvert_exporter": "python",
   "pygments_lexer": "ipython3",
   "version": "3.8.8"
  }
 },
 "nbformat": 4,
 "nbformat_minor": 5
}
